{
 "cells": [
  {
   "cell_type": "code",
   "execution_count": 20,
   "id": "f141ef8e",
   "metadata": {},
   "outputs": [],
   "source": [
    "import simplekml\n",
    "import polyline\n",
    "import csv\n",
    "\n",
    "def create_kml(csv_file, output_kml, columns_mapping):\n",
    "    kml = simplekml.Kml()\n",
    "    \n",
    "    with open(csv_file, 'r') as file:\n",
    "        reader = csv.DictReader(file)\n",
    "        for row in reader:\n",
    "            name = row['name']\n",
    "            polyline_str = row['map.polyline']\n",
    "            comp = int(row['competitive'])\n",
    "            \n",
    "            # Extract additional columns for the description\n",
    "            additional_info = \"\"\n",
    "            for key, display_name in columns_mapping.items():\n",
    "                if key == 'id':  # Check if the column is 'More info'\n",
    "                    additional_info += f\"<tr><td>{display_name}</td><td>https://www.strava.com/segments/{row[key]}</td></tr>\"\n",
    "                else:\n",
    "                    additional_info += f\"<tr><td>{display_name}</td><td>{row[key]}</td></tr>\"\n",
    "            \n",
    "            coordinates = polyline.decode(polyline_str, geojson=True)\n",
    "            \n",
    "            lin = kml.newlinestring(name=name, coords=coordinates)\n",
    "            lin.description = f\"<table border='1'><tr></tr>{additional_info}</table>\"\n",
    "            # Increase line thickness\n",
    "            lin.style.linestyle.width = 2  # Adjust the value as needed\n",
    "            if comp == -1:\n",
    "                lin.style.linestyle.color = simplekml.Color.green\n",
    "            elif comp == 0:\n",
    "                lin.style.linestyle.color = simplekml.Color.blue\n",
    "            else:\n",
    "                lin.style.linestyle.color = simplekml.Color.red\n",
    "    \n",
    "    kml.save(output_kml)\n",
    "\n",
    "# Example usage:\n",
    "columns_mapping = {'total_elevation_gain': 'Elevation Gain (m)',\n",
    "                  'xoms.overall':'Fastest Time (H:MM:SS)', 'athlete_count':'# Athletes that have completed'\n",
    "                  ,'id':'More info'}  # Specify the columns and their display names\n",
    "create_kml('strava_comp.csv', 'output.kml', columns_mapping)\n"
   ]
  },
  {
   "cell_type": "code",
   "execution_count": null,
   "id": "7b11506c",
   "metadata": {},
   "outputs": [],
   "source": []
  }
 ],
 "metadata": {
  "kernelspec": {
   "display_name": "Python 3 (ipykernel)",
   "language": "python",
   "name": "python3"
  },
  "language_info": {
   "codemirror_mode": {
    "name": "ipython",
    "version": 3
   },
   "file_extension": ".py",
   "mimetype": "text/x-python",
   "name": "python",
   "nbconvert_exporter": "python",
   "pygments_lexer": "ipython3",
   "version": "3.11.4"
  }
 },
 "nbformat": 4,
 "nbformat_minor": 5
}
